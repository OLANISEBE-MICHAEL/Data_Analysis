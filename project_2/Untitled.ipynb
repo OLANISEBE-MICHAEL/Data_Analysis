{
 "cells": [
  {
   "cell_type": "code",
   "execution_count": 1,
   "id": "d049d6b2-49c9-43b3-a19d-f165bbe2c050",
   "metadata": {},
   "outputs": [],
   "source": [
    "import pandas as pd"
   ]
  },
  {
   "cell_type": "code",
   "execution_count": 2,
   "id": "1da8bbaf-b2be-45d8-ab09-9fdb37f75317",
   "metadata": {},
   "outputs": [
    {
     "name": "stderr",
     "output_type": "stream",
     "text": [
      "C:\\Users\\user\\AppData\\Local\\Temp\\ipykernel_13144\\1518665188.py:1: DtypeWarning: Columns (3,4,5,6,12) have mixed types. Specify dtype option on import or set low_memory=False.\n",
      "  data = pd.read_csv(\"Salaries.csv\")\n"
     ]
    }
   ],
   "source": [
    "data = pd.read_csv(\"Salaries.csv\")\n",
    "df = data.copy()"
   ]
  },
  {
   "cell_type": "code",
   "execution_count": 3,
   "id": "fd7876fa-4b2d-44d5-b19c-e4d6229d8cb6",
   "metadata": {},
   "outputs": [
    {
     "data": {
      "text/plain": [
       "Id                    int64\n",
       "EmployeeName         object\n",
       "JobTitle             object\n",
       "BasePay              object\n",
       "OvertimePay          object\n",
       "OtherPay             object\n",
       "Benefits             object\n",
       "TotalPay            float64\n",
       "TotalPayBenefits    float64\n",
       "Year                  int64\n",
       "Notes               float64\n",
       "Agency               object\n",
       "Status               object\n",
       "dtype: object"
      ]
     },
     "execution_count": 3,
     "metadata": {},
     "output_type": "execute_result"
    }
   ],
   "source": [
    "df.dtypes"
   ]
  },
  {
   "cell_type": "markdown",
   "id": "087f6623-2bca-4f0b-aad9-f230851fd8dc",
   "metadata": {},
   "source": [
    "## 1. DISPLAY TOP 10 ROWS OF THE DATASET"
   ]
  },
  {
   "cell_type": "code",
   "execution_count": 4,
   "id": "5cb78215-cd85-4389-8685-f75c3b4433e9",
   "metadata": {},
   "outputs": [
    {
     "data": {
      "text/html": [
       "<div>\n",
       "<style scoped>\n",
       "    .dataframe tbody tr th:only-of-type {\n",
       "        vertical-align: middle;\n",
       "    }\n",
       "\n",
       "    .dataframe tbody tr th {\n",
       "        vertical-align: top;\n",
       "    }\n",
       "\n",
       "    .dataframe thead th {\n",
       "        text-align: right;\n",
       "    }\n",
       "</style>\n",
       "<table border=\"1\" class=\"dataframe\">\n",
       "  <thead>\n",
       "    <tr style=\"text-align: right;\">\n",
       "      <th></th>\n",
       "      <th>Id</th>\n",
       "      <th>EmployeeName</th>\n",
       "      <th>JobTitle</th>\n",
       "      <th>BasePay</th>\n",
       "      <th>OvertimePay</th>\n",
       "      <th>OtherPay</th>\n",
       "      <th>Benefits</th>\n",
       "      <th>TotalPay</th>\n",
       "      <th>TotalPayBenefits</th>\n",
       "      <th>Year</th>\n",
       "      <th>Notes</th>\n",
       "      <th>Agency</th>\n",
       "      <th>Status</th>\n",
       "    </tr>\n",
       "  </thead>\n",
       "  <tbody>\n",
       "    <tr>\n",
       "      <th>0</th>\n",
       "      <td>1</td>\n",
       "      <td>NATHANIEL FORD</td>\n",
       "      <td>GENERAL MANAGER-METROPOLITAN TRANSIT AUTHORITY</td>\n",
       "      <td>167411.18</td>\n",
       "      <td>0.0</td>\n",
       "      <td>400184.25</td>\n",
       "      <td>NaN</td>\n",
       "      <td>567595.43</td>\n",
       "      <td>567595.43</td>\n",
       "      <td>2011</td>\n",
       "      <td>NaN</td>\n",
       "      <td>San Francisco</td>\n",
       "      <td>NaN</td>\n",
       "    </tr>\n",
       "    <tr>\n",
       "      <th>1</th>\n",
       "      <td>2</td>\n",
       "      <td>GARY JIMENEZ</td>\n",
       "      <td>CAPTAIN III (POLICE DEPARTMENT)</td>\n",
       "      <td>155966.02</td>\n",
       "      <td>245131.88</td>\n",
       "      <td>137811.38</td>\n",
       "      <td>NaN</td>\n",
       "      <td>538909.28</td>\n",
       "      <td>538909.28</td>\n",
       "      <td>2011</td>\n",
       "      <td>NaN</td>\n",
       "      <td>San Francisco</td>\n",
       "      <td>NaN</td>\n",
       "    </tr>\n",
       "    <tr>\n",
       "      <th>2</th>\n",
       "      <td>3</td>\n",
       "      <td>ALBERT PARDINI</td>\n",
       "      <td>CAPTAIN III (POLICE DEPARTMENT)</td>\n",
       "      <td>212739.13</td>\n",
       "      <td>106088.18</td>\n",
       "      <td>16452.6</td>\n",
       "      <td>NaN</td>\n",
       "      <td>335279.91</td>\n",
       "      <td>335279.91</td>\n",
       "      <td>2011</td>\n",
       "      <td>NaN</td>\n",
       "      <td>San Francisco</td>\n",
       "      <td>NaN</td>\n",
       "    </tr>\n",
       "    <tr>\n",
       "      <th>3</th>\n",
       "      <td>4</td>\n",
       "      <td>CHRISTOPHER CHONG</td>\n",
       "      <td>WIRE ROPE CABLE MAINTENANCE MECHANIC</td>\n",
       "      <td>77916.0</td>\n",
       "      <td>56120.71</td>\n",
       "      <td>198306.9</td>\n",
       "      <td>NaN</td>\n",
       "      <td>332343.61</td>\n",
       "      <td>332343.61</td>\n",
       "      <td>2011</td>\n",
       "      <td>NaN</td>\n",
       "      <td>San Francisco</td>\n",
       "      <td>NaN</td>\n",
       "    </tr>\n",
       "    <tr>\n",
       "      <th>4</th>\n",
       "      <td>5</td>\n",
       "      <td>PATRICK GARDNER</td>\n",
       "      <td>DEPUTY CHIEF OF DEPARTMENT,(FIRE DEPARTMENT)</td>\n",
       "      <td>134401.6</td>\n",
       "      <td>9737.0</td>\n",
       "      <td>182234.59</td>\n",
       "      <td>NaN</td>\n",
       "      <td>326373.19</td>\n",
       "      <td>326373.19</td>\n",
       "      <td>2011</td>\n",
       "      <td>NaN</td>\n",
       "      <td>San Francisco</td>\n",
       "      <td>NaN</td>\n",
       "    </tr>\n",
       "    <tr>\n",
       "      <th>5</th>\n",
       "      <td>6</td>\n",
       "      <td>DAVID SULLIVAN</td>\n",
       "      <td>ASSISTANT DEPUTY CHIEF II</td>\n",
       "      <td>118602.0</td>\n",
       "      <td>8601.0</td>\n",
       "      <td>189082.74</td>\n",
       "      <td>NaN</td>\n",
       "      <td>316285.74</td>\n",
       "      <td>316285.74</td>\n",
       "      <td>2011</td>\n",
       "      <td>NaN</td>\n",
       "      <td>San Francisco</td>\n",
       "      <td>NaN</td>\n",
       "    </tr>\n",
       "    <tr>\n",
       "      <th>6</th>\n",
       "      <td>7</td>\n",
       "      <td>ALSON LEE</td>\n",
       "      <td>BATTALION CHIEF, (FIRE DEPARTMENT)</td>\n",
       "      <td>92492.01</td>\n",
       "      <td>89062.9</td>\n",
       "      <td>134426.14</td>\n",
       "      <td>NaN</td>\n",
       "      <td>315981.05</td>\n",
       "      <td>315981.05</td>\n",
       "      <td>2011</td>\n",
       "      <td>NaN</td>\n",
       "      <td>San Francisco</td>\n",
       "      <td>NaN</td>\n",
       "    </tr>\n",
       "    <tr>\n",
       "      <th>7</th>\n",
       "      <td>8</td>\n",
       "      <td>DAVID KUSHNER</td>\n",
       "      <td>DEPUTY DIRECTOR OF INVESTMENTS</td>\n",
       "      <td>256576.96</td>\n",
       "      <td>0.0</td>\n",
       "      <td>51322.5</td>\n",
       "      <td>NaN</td>\n",
       "      <td>307899.46</td>\n",
       "      <td>307899.46</td>\n",
       "      <td>2011</td>\n",
       "      <td>NaN</td>\n",
       "      <td>San Francisco</td>\n",
       "      <td>NaN</td>\n",
       "    </tr>\n",
       "    <tr>\n",
       "      <th>8</th>\n",
       "      <td>9</td>\n",
       "      <td>MICHAEL MORRIS</td>\n",
       "      <td>BATTALION CHIEF, (FIRE DEPARTMENT)</td>\n",
       "      <td>176932.64</td>\n",
       "      <td>86362.68</td>\n",
       "      <td>40132.23</td>\n",
       "      <td>NaN</td>\n",
       "      <td>303427.55</td>\n",
       "      <td>303427.55</td>\n",
       "      <td>2011</td>\n",
       "      <td>NaN</td>\n",
       "      <td>San Francisco</td>\n",
       "      <td>NaN</td>\n",
       "    </tr>\n",
       "    <tr>\n",
       "      <th>9</th>\n",
       "      <td>10</td>\n",
       "      <td>JOANNE HAYES-WHITE</td>\n",
       "      <td>CHIEF OF DEPARTMENT, (FIRE DEPARTMENT)</td>\n",
       "      <td>285262.0</td>\n",
       "      <td>0.0</td>\n",
       "      <td>17115.73</td>\n",
       "      <td>NaN</td>\n",
       "      <td>302377.73</td>\n",
       "      <td>302377.73</td>\n",
       "      <td>2011</td>\n",
       "      <td>NaN</td>\n",
       "      <td>San Francisco</td>\n",
       "      <td>NaN</td>\n",
       "    </tr>\n",
       "  </tbody>\n",
       "</table>\n",
       "</div>"
      ],
      "text/plain": [
       "   Id        EmployeeName                                        JobTitle  \\\n",
       "0   1      NATHANIEL FORD  GENERAL MANAGER-METROPOLITAN TRANSIT AUTHORITY   \n",
       "1   2        GARY JIMENEZ                 CAPTAIN III (POLICE DEPARTMENT)   \n",
       "2   3      ALBERT PARDINI                 CAPTAIN III (POLICE DEPARTMENT)   \n",
       "3   4   CHRISTOPHER CHONG            WIRE ROPE CABLE MAINTENANCE MECHANIC   \n",
       "4   5     PATRICK GARDNER    DEPUTY CHIEF OF DEPARTMENT,(FIRE DEPARTMENT)   \n",
       "5   6      DAVID SULLIVAN                       ASSISTANT DEPUTY CHIEF II   \n",
       "6   7           ALSON LEE              BATTALION CHIEF, (FIRE DEPARTMENT)   \n",
       "7   8       DAVID KUSHNER                  DEPUTY DIRECTOR OF INVESTMENTS   \n",
       "8   9      MICHAEL MORRIS              BATTALION CHIEF, (FIRE DEPARTMENT)   \n",
       "9  10  JOANNE HAYES-WHITE          CHIEF OF DEPARTMENT, (FIRE DEPARTMENT)   \n",
       "\n",
       "     BasePay OvertimePay   OtherPay Benefits   TotalPay  TotalPayBenefits  \\\n",
       "0  167411.18         0.0  400184.25      NaN  567595.43         567595.43   \n",
       "1  155966.02   245131.88  137811.38      NaN  538909.28         538909.28   \n",
       "2  212739.13   106088.18    16452.6      NaN  335279.91         335279.91   \n",
       "3    77916.0    56120.71   198306.9      NaN  332343.61         332343.61   \n",
       "4   134401.6      9737.0  182234.59      NaN  326373.19         326373.19   \n",
       "5   118602.0      8601.0  189082.74      NaN  316285.74         316285.74   \n",
       "6   92492.01     89062.9  134426.14      NaN  315981.05         315981.05   \n",
       "7  256576.96         0.0    51322.5      NaN  307899.46         307899.46   \n",
       "8  176932.64    86362.68   40132.23      NaN  303427.55         303427.55   \n",
       "9   285262.0         0.0   17115.73      NaN  302377.73         302377.73   \n",
       "\n",
       "   Year  Notes         Agency Status  \n",
       "0  2011    NaN  San Francisco    NaN  \n",
       "1  2011    NaN  San Francisco    NaN  \n",
       "2  2011    NaN  San Francisco    NaN  \n",
       "3  2011    NaN  San Francisco    NaN  \n",
       "4  2011    NaN  San Francisco    NaN  \n",
       "5  2011    NaN  San Francisco    NaN  \n",
       "6  2011    NaN  San Francisco    NaN  \n",
       "7  2011    NaN  San Francisco    NaN  \n",
       "8  2011    NaN  San Francisco    NaN  \n",
       "9  2011    NaN  San Francisco    NaN  "
      ]
     },
     "execution_count": 4,
     "metadata": {},
     "output_type": "execute_result"
    }
   ],
   "source": [
    "df.head(10)"
   ]
  },
  {
   "cell_type": "markdown",
   "id": "94c6fb45-cff6-4a22-9f78-0113c5c569b5",
   "metadata": {},
   "source": [
    "# 2. DISPLAY LAST 10 ROWS OF THE DATASET"
   ]
  },
  {
   "cell_type": "code",
   "execution_count": 5,
   "id": "d4c01ef1-15e5-4dbf-9b23-1280a3bd2573",
   "metadata": {},
   "outputs": [
    {
     "data": {
      "text/html": [
       "<div>\n",
       "<style scoped>\n",
       "    .dataframe tbody tr th:only-of-type {\n",
       "        vertical-align: middle;\n",
       "    }\n",
       "\n",
       "    .dataframe tbody tr th {\n",
       "        vertical-align: top;\n",
       "    }\n",
       "\n",
       "    .dataframe thead th {\n",
       "        text-align: right;\n",
       "    }\n",
       "</style>\n",
       "<table border=\"1\" class=\"dataframe\">\n",
       "  <thead>\n",
       "    <tr style=\"text-align: right;\">\n",
       "      <th></th>\n",
       "      <th>Id</th>\n",
       "      <th>EmployeeName</th>\n",
       "      <th>JobTitle</th>\n",
       "      <th>BasePay</th>\n",
       "      <th>OvertimePay</th>\n",
       "      <th>OtherPay</th>\n",
       "      <th>Benefits</th>\n",
       "      <th>TotalPay</th>\n",
       "      <th>TotalPayBenefits</th>\n",
       "      <th>Year</th>\n",
       "      <th>Notes</th>\n",
       "      <th>Agency</th>\n",
       "      <th>Status</th>\n",
       "    </tr>\n",
       "  </thead>\n",
       "  <tbody>\n",
       "    <tr>\n",
       "      <th>148644</th>\n",
       "      <td>148645</td>\n",
       "      <td>Randy D Winn</td>\n",
       "      <td>Stationary Eng, Sewage Plant</td>\n",
       "      <td>0.00</td>\n",
       "      <td>0.00</td>\n",
       "      <td>0.00</td>\n",
       "      <td>0.00</td>\n",
       "      <td>0.00</td>\n",
       "      <td>0.00</td>\n",
       "      <td>2014</td>\n",
       "      <td>NaN</td>\n",
       "      <td>San Francisco</td>\n",
       "      <td>PT</td>\n",
       "    </tr>\n",
       "    <tr>\n",
       "      <th>148645</th>\n",
       "      <td>148646</td>\n",
       "      <td>Carolyn A Wilson</td>\n",
       "      <td>Human Services Technician</td>\n",
       "      <td>0.00</td>\n",
       "      <td>0.00</td>\n",
       "      <td>0.00</td>\n",
       "      <td>0.00</td>\n",
       "      <td>0.00</td>\n",
       "      <td>0.00</td>\n",
       "      <td>2014</td>\n",
       "      <td>NaN</td>\n",
       "      <td>San Francisco</td>\n",
       "      <td>PT</td>\n",
       "    </tr>\n",
       "    <tr>\n",
       "      <th>148646</th>\n",
       "      <td>148647</td>\n",
       "      <td>Not provided</td>\n",
       "      <td>Not provided</td>\n",
       "      <td>Not Provided</td>\n",
       "      <td>Not Provided</td>\n",
       "      <td>Not Provided</td>\n",
       "      <td>Not Provided</td>\n",
       "      <td>0.00</td>\n",
       "      <td>0.00</td>\n",
       "      <td>2014</td>\n",
       "      <td>NaN</td>\n",
       "      <td>San Francisco</td>\n",
       "      <td>NaN</td>\n",
       "    </tr>\n",
       "    <tr>\n",
       "      <th>148647</th>\n",
       "      <td>148648</td>\n",
       "      <td>Joann Anderson</td>\n",
       "      <td>Communications Dispatcher 2</td>\n",
       "      <td>0.00</td>\n",
       "      <td>0.00</td>\n",
       "      <td>0.00</td>\n",
       "      <td>0.00</td>\n",
       "      <td>0.00</td>\n",
       "      <td>0.00</td>\n",
       "      <td>2014</td>\n",
       "      <td>NaN</td>\n",
       "      <td>San Francisco</td>\n",
       "      <td>PT</td>\n",
       "    </tr>\n",
       "    <tr>\n",
       "      <th>148648</th>\n",
       "      <td>148649</td>\n",
       "      <td>Leon Walker</td>\n",
       "      <td>Custodian</td>\n",
       "      <td>0.00</td>\n",
       "      <td>0.00</td>\n",
       "      <td>0.00</td>\n",
       "      <td>0.00</td>\n",
       "      <td>0.00</td>\n",
       "      <td>0.00</td>\n",
       "      <td>2014</td>\n",
       "      <td>NaN</td>\n",
       "      <td>San Francisco</td>\n",
       "      <td>PT</td>\n",
       "    </tr>\n",
       "    <tr>\n",
       "      <th>148649</th>\n",
       "      <td>148650</td>\n",
       "      <td>Roy I Tillery</td>\n",
       "      <td>Custodian</td>\n",
       "      <td>0.00</td>\n",
       "      <td>0.00</td>\n",
       "      <td>0.00</td>\n",
       "      <td>0.00</td>\n",
       "      <td>0.00</td>\n",
       "      <td>0.00</td>\n",
       "      <td>2014</td>\n",
       "      <td>NaN</td>\n",
       "      <td>San Francisco</td>\n",
       "      <td>PT</td>\n",
       "    </tr>\n",
       "    <tr>\n",
       "      <th>148650</th>\n",
       "      <td>148651</td>\n",
       "      <td>Not provided</td>\n",
       "      <td>Not provided</td>\n",
       "      <td>Not Provided</td>\n",
       "      <td>Not Provided</td>\n",
       "      <td>Not Provided</td>\n",
       "      <td>Not Provided</td>\n",
       "      <td>0.00</td>\n",
       "      <td>0.00</td>\n",
       "      <td>2014</td>\n",
       "      <td>NaN</td>\n",
       "      <td>San Francisco</td>\n",
       "      <td>NaN</td>\n",
       "    </tr>\n",
       "    <tr>\n",
       "      <th>148651</th>\n",
       "      <td>148652</td>\n",
       "      <td>Not provided</td>\n",
       "      <td>Not provided</td>\n",
       "      <td>Not Provided</td>\n",
       "      <td>Not Provided</td>\n",
       "      <td>Not Provided</td>\n",
       "      <td>Not Provided</td>\n",
       "      <td>0.00</td>\n",
       "      <td>0.00</td>\n",
       "      <td>2014</td>\n",
       "      <td>NaN</td>\n",
       "      <td>San Francisco</td>\n",
       "      <td>NaN</td>\n",
       "    </tr>\n",
       "    <tr>\n",
       "      <th>148652</th>\n",
       "      <td>148653</td>\n",
       "      <td>Not provided</td>\n",
       "      <td>Not provided</td>\n",
       "      <td>Not Provided</td>\n",
       "      <td>Not Provided</td>\n",
       "      <td>Not Provided</td>\n",
       "      <td>Not Provided</td>\n",
       "      <td>0.00</td>\n",
       "      <td>0.00</td>\n",
       "      <td>2014</td>\n",
       "      <td>NaN</td>\n",
       "      <td>San Francisco</td>\n",
       "      <td>NaN</td>\n",
       "    </tr>\n",
       "    <tr>\n",
       "      <th>148653</th>\n",
       "      <td>148654</td>\n",
       "      <td>Joe Lopez</td>\n",
       "      <td>Counselor, Log Cabin Ranch</td>\n",
       "      <td>0.00</td>\n",
       "      <td>0.00</td>\n",
       "      <td>-618.13</td>\n",
       "      <td>0.00</td>\n",
       "      <td>-618.13</td>\n",
       "      <td>-618.13</td>\n",
       "      <td>2014</td>\n",
       "      <td>NaN</td>\n",
       "      <td>San Francisco</td>\n",
       "      <td>PT</td>\n",
       "    </tr>\n",
       "  </tbody>\n",
       "</table>\n",
       "</div>"
      ],
      "text/plain": [
       "            Id      EmployeeName                      JobTitle       BasePay  \\\n",
       "148644  148645      Randy D Winn  Stationary Eng, Sewage Plant          0.00   \n",
       "148645  148646  Carolyn A Wilson     Human Services Technician          0.00   \n",
       "148646  148647      Not provided                  Not provided  Not Provided   \n",
       "148647  148648    Joann Anderson   Communications Dispatcher 2          0.00   \n",
       "148648  148649       Leon Walker                     Custodian          0.00   \n",
       "148649  148650     Roy I Tillery                     Custodian          0.00   \n",
       "148650  148651      Not provided                  Not provided  Not Provided   \n",
       "148651  148652      Not provided                  Not provided  Not Provided   \n",
       "148652  148653      Not provided                  Not provided  Not Provided   \n",
       "148653  148654         Joe Lopez    Counselor, Log Cabin Ranch          0.00   \n",
       "\n",
       "         OvertimePay      OtherPay      Benefits  TotalPay  TotalPayBenefits  \\\n",
       "148644          0.00          0.00          0.00      0.00              0.00   \n",
       "148645          0.00          0.00          0.00      0.00              0.00   \n",
       "148646  Not Provided  Not Provided  Not Provided      0.00              0.00   \n",
       "148647          0.00          0.00          0.00      0.00              0.00   \n",
       "148648          0.00          0.00          0.00      0.00              0.00   \n",
       "148649          0.00          0.00          0.00      0.00              0.00   \n",
       "148650  Not Provided  Not Provided  Not Provided      0.00              0.00   \n",
       "148651  Not Provided  Not Provided  Not Provided      0.00              0.00   \n",
       "148652  Not Provided  Not Provided  Not Provided      0.00              0.00   \n",
       "148653          0.00       -618.13          0.00   -618.13           -618.13   \n",
       "\n",
       "        Year  Notes         Agency Status  \n",
       "148644  2014    NaN  San Francisco     PT  \n",
       "148645  2014    NaN  San Francisco     PT  \n",
       "148646  2014    NaN  San Francisco    NaN  \n",
       "148647  2014    NaN  San Francisco     PT  \n",
       "148648  2014    NaN  San Francisco     PT  \n",
       "148649  2014    NaN  San Francisco     PT  \n",
       "148650  2014    NaN  San Francisco    NaN  \n",
       "148651  2014    NaN  San Francisco    NaN  \n",
       "148652  2014    NaN  San Francisco    NaN  \n",
       "148653  2014    NaN  San Francisco     PT  "
      ]
     },
     "execution_count": 5,
     "metadata": {},
     "output_type": "execute_result"
    }
   ],
   "source": [
    "df.tail(10)"
   ]
  },
  {
   "cell_type": "markdown",
   "id": "4fae56fc-1271-4f43-85de-dca0a65c7338",
   "metadata": {},
   "source": [
    "## 3. FINDING THE SHAPE OF OUR DATASET"
   ]
  },
  {
   "cell_type": "code",
   "execution_count": 6,
   "id": "78503b37-b583-4948-8c7f-dc0182ecc27b",
   "metadata": {},
   "outputs": [
    {
     "data": {
      "text/plain": [
       "(148654, 13)"
      ]
     },
     "execution_count": 6,
     "metadata": {},
     "output_type": "execute_result"
    }
   ],
   "source": [
    "df.shape"
   ]
  },
  {
   "cell_type": "markdown",
   "id": "f961dcf8-9c47-4ff1-8af1-e9c9d1cbf08e",
   "metadata": {},
   "source": [
    "## 4. GETTING INFORMATION ABOUT THE DATASET"
   ]
  },
  {
   "cell_type": "code",
   "execution_count": 7,
   "id": "88bc51a8-d9b4-41c9-b441-e69c8360d116",
   "metadata": {},
   "outputs": [
    {
     "name": "stdout",
     "output_type": "stream",
     "text": [
      "<class 'pandas.core.frame.DataFrame'>\n",
      "RangeIndex: 148654 entries, 0 to 148653\n",
      "Data columns (total 13 columns):\n",
      " #   Column            Non-Null Count   Dtype  \n",
      "---  ------            --------------   -----  \n",
      " 0   Id                148654 non-null  int64  \n",
      " 1   EmployeeName      148654 non-null  object \n",
      " 2   JobTitle          148654 non-null  object \n",
      " 3   BasePay           148049 non-null  object \n",
      " 4   OvertimePay       148654 non-null  object \n",
      " 5   OtherPay          148654 non-null  object \n",
      " 6   Benefits          112495 non-null  object \n",
      " 7   TotalPay          148654 non-null  float64\n",
      " 8   TotalPayBenefits  148654 non-null  float64\n",
      " 9   Year              148654 non-null  int64  \n",
      " 10  Notes             0 non-null       float64\n",
      " 11  Agency            148654 non-null  object \n",
      " 12  Status            38119 non-null   object \n",
      "dtypes: float64(3), int64(2), object(8)\n",
      "memory usage: 14.7+ MB\n"
     ]
    }
   ],
   "source": [
    "df.info()"
   ]
  },
  {
   "cell_type": "markdown",
   "id": "7af1352a-8b14-4d9b-a112-6aa361d6c0bc",
   "metadata": {},
   "source": [
    "## 5. CHECKING NULL VALUES IN THE DATASET"
   ]
  },
  {
   "cell_type": "code",
   "execution_count": 8,
   "id": "b0fe6fa5-b5f1-4182-9af8-8d0c59590e97",
   "metadata": {},
   "outputs": [
    {
     "data": {
      "text/plain": [
       "Id                       0\n",
       "EmployeeName             0\n",
       "JobTitle                 0\n",
       "BasePay                605\n",
       "OvertimePay              0\n",
       "OtherPay                 0\n",
       "Benefits             36159\n",
       "TotalPay                 0\n",
       "TotalPayBenefits         0\n",
       "Year                     0\n",
       "Notes               148654\n",
       "Agency                   0\n",
       "Status              110535\n",
       "dtype: int64"
      ]
     },
     "execution_count": 8,
     "metadata": {},
     "output_type": "execute_result"
    }
   ],
   "source": [
    "df.isnull().sum()"
   ]
  },
  {
   "cell_type": "code",
   "execution_count": 9,
   "id": "9127759f-087c-47e1-8f01-29a3b92cbc39",
   "metadata": {},
   "outputs": [
    {
     "data": {
      "text/html": [
       "<div>\n",
       "<style scoped>\n",
       "    .dataframe tbody tr th:only-of-type {\n",
       "        vertical-align: middle;\n",
       "    }\n",
       "\n",
       "    .dataframe tbody tr th {\n",
       "        vertical-align: top;\n",
       "    }\n",
       "\n",
       "    .dataframe thead th {\n",
       "        text-align: right;\n",
       "    }\n",
       "</style>\n",
       "<table border=\"1\" class=\"dataframe\">\n",
       "  <thead>\n",
       "    <tr style=\"text-align: right;\">\n",
       "      <th></th>\n",
       "      <th>Id</th>\n",
       "      <th>EmployeeName</th>\n",
       "      <th>JobTitle</th>\n",
       "      <th>BasePay</th>\n",
       "      <th>OvertimePay</th>\n",
       "      <th>OtherPay</th>\n",
       "      <th>Benefits</th>\n",
       "      <th>TotalPay</th>\n",
       "      <th>TotalPayBenefits</th>\n",
       "      <th>Year</th>\n",
       "      <th>Notes</th>\n",
       "      <th>Agency</th>\n",
       "      <th>Status</th>\n",
       "    </tr>\n",
       "  </thead>\n",
       "  <tbody>\n",
       "    <tr>\n",
       "      <th>81391</th>\n",
       "      <td>81392</td>\n",
       "      <td>Kevin P Cashman</td>\n",
       "      <td>Deputy Chief 3</td>\n",
       "      <td>NaN</td>\n",
       "      <td>0.0</td>\n",
       "      <td>149934.11</td>\n",
       "      <td>0.0</td>\n",
       "      <td>149934.11</td>\n",
       "      <td>149934.11</td>\n",
       "      <td>2013</td>\n",
       "      <td>NaN</td>\n",
       "      <td>San Francisco</td>\n",
       "      <td>NaN</td>\n",
       "    </tr>\n",
       "    <tr>\n",
       "      <th>84506</th>\n",
       "      <td>84507</td>\n",
       "      <td>Demetrya  Mullens</td>\n",
       "      <td>Licensed Vocational Nurse</td>\n",
       "      <td>NaN</td>\n",
       "      <td>0.0</td>\n",
       "      <td>110485.41</td>\n",
       "      <td>20779.0</td>\n",
       "      <td>110485.41</td>\n",
       "      <td>131264.41</td>\n",
       "      <td>2013</td>\n",
       "      <td>NaN</td>\n",
       "      <td>San Francisco</td>\n",
       "      <td>NaN</td>\n",
       "    </tr>\n",
       "    <tr>\n",
       "      <th>84960</th>\n",
       "      <td>84961</td>\n",
       "      <td>Michael M Horan</td>\n",
       "      <td>Park Patrol Officer</td>\n",
       "      <td>NaN</td>\n",
       "      <td>0.0</td>\n",
       "      <td>120000.0</td>\n",
       "      <td>8841.48</td>\n",
       "      <td>120000.00</td>\n",
       "      <td>128841.48</td>\n",
       "      <td>2013</td>\n",
       "      <td>NaN</td>\n",
       "      <td>San Francisco</td>\n",
       "      <td>NaN</td>\n",
       "    </tr>\n",
       "    <tr>\n",
       "      <th>90525</th>\n",
       "      <td>90526</td>\n",
       "      <td>Thomas  Tang</td>\n",
       "      <td>Police Officer 3</td>\n",
       "      <td>NaN</td>\n",
       "      <td>0.0</td>\n",
       "      <td>106079.31</td>\n",
       "      <td>0.0</td>\n",
       "      <td>106079.31</td>\n",
       "      <td>106079.31</td>\n",
       "      <td>2013</td>\n",
       "      <td>NaN</td>\n",
       "      <td>San Francisco</td>\n",
       "      <td>NaN</td>\n",
       "    </tr>\n",
       "    <tr>\n",
       "      <th>90786</th>\n",
       "      <td>90787</td>\n",
       "      <td>Michael C Hill</td>\n",
       "      <td>Deputy Sheriff</td>\n",
       "      <td>NaN</td>\n",
       "      <td>0.0</td>\n",
       "      <td>81299.02</td>\n",
       "      <td>23877.53</td>\n",
       "      <td>81299.02</td>\n",
       "      <td>105176.55</td>\n",
       "      <td>2013</td>\n",
       "      <td>NaN</td>\n",
       "      <td>San Francisco</td>\n",
       "      <td>NaN</td>\n",
       "    </tr>\n",
       "  </tbody>\n",
       "</table>\n",
       "</div>"
      ],
      "text/plain": [
       "          Id       EmployeeName                   JobTitle BasePay  \\\n",
       "81391  81392    Kevin P Cashman             Deputy Chief 3     NaN   \n",
       "84506  84507  Demetrya  Mullens  Licensed Vocational Nurse     NaN   \n",
       "84960  84961    Michael M Horan        Park Patrol Officer     NaN   \n",
       "90525  90526       Thomas  Tang           Police Officer 3     NaN   \n",
       "90786  90787     Michael C Hill             Deputy Sheriff     NaN   \n",
       "\n",
       "      OvertimePay   OtherPay  Benefits   TotalPay  TotalPayBenefits  Year  \\\n",
       "81391         0.0  149934.11       0.0  149934.11         149934.11  2013   \n",
       "84506         0.0  110485.41   20779.0  110485.41         131264.41  2013   \n",
       "84960         0.0   120000.0   8841.48  120000.00         128841.48  2013   \n",
       "90525         0.0  106079.31       0.0  106079.31         106079.31  2013   \n",
       "90786         0.0   81299.02  23877.53   81299.02         105176.55  2013   \n",
       "\n",
       "       Notes         Agency Status  \n",
       "81391    NaN  San Francisco    NaN  \n",
       "84506    NaN  San Francisco    NaN  \n",
       "84960    NaN  San Francisco    NaN  \n",
       "90525    NaN  San Francisco    NaN  \n",
       "90786    NaN  San Francisco    NaN  "
      ]
     },
     "execution_count": 9,
     "metadata": {},
     "output_type": "execute_result"
    }
   ],
   "source": [
    "no_basepay = df[df[\"BasePay\"].isna()]\n",
    "no_basepay.head()"
   ]
  },
  {
   "cell_type": "code",
   "execution_count": 10,
   "id": "e317e390-8250-48da-8fe6-1a6a0f5dabaa",
   "metadata": {},
   "outputs": [],
   "source": [
    "check = no_basepay.eval(\"TotalPay == OvertimePay + OtherPay\") # checking if the nan represents 0"
   ]
  },
  {
   "cell_type": "code",
   "execution_count": 11,
   "id": "6a8b8a3f-ebc9-4fca-9936-bf5a4028dafc",
   "metadata": {},
   "outputs": [
    {
     "data": {
      "text/plain": [
       "True    605\n",
       "Name: count, dtype: int64"
      ]
     },
     "execution_count": 11,
     "metadata": {},
     "output_type": "execute_result"
    }
   ],
   "source": [
    "check.value_counts()"
   ]
  },
  {
   "cell_type": "code",
   "execution_count": 12,
   "id": "6381d1a8-99bc-404f-9d0e-e6962c453432",
   "metadata": {},
   "outputs": [],
   "source": [
    " df[\"BasePay\"] = df[\"BasePay\"].fillna(0.00)"
   ]
  },
  {
   "cell_type": "code",
   "execution_count": 13,
   "id": "6fc84681-6fd9-4e71-a2d9-3d0f61b08dd4",
   "metadata": {},
   "outputs": [
    {
     "data": {
      "text/html": [
       "<div>\n",
       "<style scoped>\n",
       "    .dataframe tbody tr th:only-of-type {\n",
       "        vertical-align: middle;\n",
       "    }\n",
       "\n",
       "    .dataframe tbody tr th {\n",
       "        vertical-align: top;\n",
       "    }\n",
       "\n",
       "    .dataframe thead th {\n",
       "        text-align: right;\n",
       "    }\n",
       "</style>\n",
       "<table border=\"1\" class=\"dataframe\">\n",
       "  <thead>\n",
       "    <tr style=\"text-align: right;\">\n",
       "      <th></th>\n",
       "      <th>Id</th>\n",
       "      <th>EmployeeName</th>\n",
       "      <th>JobTitle</th>\n",
       "      <th>BasePay</th>\n",
       "      <th>OvertimePay</th>\n",
       "      <th>OtherPay</th>\n",
       "      <th>Benefits</th>\n",
       "      <th>TotalPay</th>\n",
       "      <th>TotalPayBenefits</th>\n",
       "      <th>Year</th>\n",
       "      <th>Notes</th>\n",
       "      <th>Agency</th>\n",
       "      <th>Status</th>\n",
       "    </tr>\n",
       "  </thead>\n",
       "  <tbody>\n",
       "    <tr>\n",
       "      <th>148646</th>\n",
       "      <td>148647</td>\n",
       "      <td>Not provided</td>\n",
       "      <td>Not provided</td>\n",
       "      <td>Not Provided</td>\n",
       "      <td>Not Provided</td>\n",
       "      <td>Not Provided</td>\n",
       "      <td>Not Provided</td>\n",
       "      <td>0.0</td>\n",
       "      <td>0.0</td>\n",
       "      <td>2014</td>\n",
       "      <td>NaN</td>\n",
       "      <td>San Francisco</td>\n",
       "      <td>NaN</td>\n",
       "    </tr>\n",
       "    <tr>\n",
       "      <th>148650</th>\n",
       "      <td>148651</td>\n",
       "      <td>Not provided</td>\n",
       "      <td>Not provided</td>\n",
       "      <td>Not Provided</td>\n",
       "      <td>Not Provided</td>\n",
       "      <td>Not Provided</td>\n",
       "      <td>Not Provided</td>\n",
       "      <td>0.0</td>\n",
       "      <td>0.0</td>\n",
       "      <td>2014</td>\n",
       "      <td>NaN</td>\n",
       "      <td>San Francisco</td>\n",
       "      <td>NaN</td>\n",
       "    </tr>\n",
       "    <tr>\n",
       "      <th>148651</th>\n",
       "      <td>148652</td>\n",
       "      <td>Not provided</td>\n",
       "      <td>Not provided</td>\n",
       "      <td>Not Provided</td>\n",
       "      <td>Not Provided</td>\n",
       "      <td>Not Provided</td>\n",
       "      <td>Not Provided</td>\n",
       "      <td>0.0</td>\n",
       "      <td>0.0</td>\n",
       "      <td>2014</td>\n",
       "      <td>NaN</td>\n",
       "      <td>San Francisco</td>\n",
       "      <td>NaN</td>\n",
       "    </tr>\n",
       "    <tr>\n",
       "      <th>148652</th>\n",
       "      <td>148653</td>\n",
       "      <td>Not provided</td>\n",
       "      <td>Not provided</td>\n",
       "      <td>Not Provided</td>\n",
       "      <td>Not Provided</td>\n",
       "      <td>Not Provided</td>\n",
       "      <td>Not Provided</td>\n",
       "      <td>0.0</td>\n",
       "      <td>0.0</td>\n",
       "      <td>2014</td>\n",
       "      <td>NaN</td>\n",
       "      <td>San Francisco</td>\n",
       "      <td>NaN</td>\n",
       "    </tr>\n",
       "  </tbody>\n",
       "</table>\n",
       "</div>"
      ],
      "text/plain": [
       "            Id  EmployeeName      JobTitle       BasePay   OvertimePay  \\\n",
       "148646  148647  Not provided  Not provided  Not Provided  Not Provided   \n",
       "148650  148651  Not provided  Not provided  Not Provided  Not Provided   \n",
       "148651  148652  Not provided  Not provided  Not Provided  Not Provided   \n",
       "148652  148653  Not provided  Not provided  Not Provided  Not Provided   \n",
       "\n",
       "            OtherPay      Benefits  TotalPay  TotalPayBenefits  Year  Notes  \\\n",
       "148646  Not Provided  Not Provided       0.0               0.0  2014    NaN   \n",
       "148650  Not Provided  Not Provided       0.0               0.0  2014    NaN   \n",
       "148651  Not Provided  Not Provided       0.0               0.0  2014    NaN   \n",
       "148652  Not Provided  Not Provided       0.0               0.0  2014    NaN   \n",
       "\n",
       "               Agency Status  \n",
       "148646  San Francisco    NaN  \n",
       "148650  San Francisco    NaN  \n",
       "148651  San Francisco    NaN  \n",
       "148652  San Francisco    NaN  "
      ]
     },
     "execution_count": 13,
     "metadata": {},
     "output_type": "execute_result"
    }
   ],
   "source": [
    "not_provided = df[df[\"BasePay\"] == \"Not Provided\"]\n",
    "not_provided"
   ]
  },
  {
   "cell_type": "code",
   "execution_count": 14,
   "id": "b17de174-48a7-45a4-be63-6746eb61f7f7",
   "metadata": {},
   "outputs": [],
   "source": [
    "df.drop(not_provided.index, inplace=True)"
   ]
  },
  {
   "cell_type": "code",
   "execution_count": 15,
   "id": "036b08b5-10cc-4acb-9f10-882cfb8fa391",
   "metadata": {},
   "outputs": [],
   "source": [
    "# changing some dtypes\n",
    "df[\"BasePay\"] = df[\"BasePay\"].astype(float)\n",
    "df[\"BasePay\"] = df[\"BasePay\"].apply(lambda x : round(x, 2))"
   ]
  },
  {
   "cell_type": "code",
   "execution_count": 16,
   "id": "93141a2d-71b0-4884-bb5b-1aaa9db32903",
   "metadata": {},
   "outputs": [],
   "source": [
    "df[\"OvertimePay\"] = df[\"OvertimePay\"].astype(float)\n",
    "df[\"OvertimePay\"] = df[\"OvertimePay\"].apply(lambda x : round(x, 2))"
   ]
  },
  {
   "cell_type": "code",
   "execution_count": 17,
   "id": "4e2b4a2e-f2c0-49b3-b3da-c36724424b87",
   "metadata": {},
   "outputs": [
    {
     "data": {
      "text/plain": [
       "Id                    int64\n",
       "EmployeeName         object\n",
       "JobTitle             object\n",
       "BasePay             float64\n",
       "OvertimePay         float64\n",
       "OtherPay             object\n",
       "Benefits             object\n",
       "TotalPay            float64\n",
       "TotalPayBenefits    float64\n",
       "Year                  int64\n",
       "Notes               float64\n",
       "Agency               object\n",
       "Status               object\n",
       "dtype: object"
      ]
     },
     "execution_count": 17,
     "metadata": {},
     "output_type": "execute_result"
    }
   ],
   "source": [
    "df.dtypes"
   ]
  },
  {
   "cell_type": "code",
   "execution_count": 18,
   "id": "6a9ad0b2-c536-4835-b49a-d2bfbfda0772",
   "metadata": {},
   "outputs": [],
   "source": [
    "df[\"OtherPay\"] = df[\"OtherPay\"].astype(float)\n",
    "df[\"Benefits\"] = df[\"Benefits\"].astype(float)\n",
    "\n",
    "df[\"Benefits\"] = df[\"Benefits\"].apply(lambda x : round(x, 2))\n",
    "df[\"OvertimePay\"] = df[\"OvertimePay\"].apply(lambda x : round(x, 2))\n"
   ]
  },
  {
   "cell_type": "code",
   "execution_count": 19,
   "id": "ab1d839c-d730-425c-b8d4-06108237fee6",
   "metadata": {},
   "outputs": [],
   "source": [
    "nan_benefits = df[df[\"Benefits\"].isna()]"
   ]
  },
  {
   "cell_type": "code",
   "execution_count": 20,
   "id": "f6207417-6f8b-4d1d-94e9-b9fbd9b59f81",
   "metadata": {},
   "outputs": [
    {
     "data": {
      "text/html": [
       "<div>\n",
       "<style scoped>\n",
       "    .dataframe tbody tr th:only-of-type {\n",
       "        vertical-align: middle;\n",
       "    }\n",
       "\n",
       "    .dataframe tbody tr th {\n",
       "        vertical-align: top;\n",
       "    }\n",
       "\n",
       "    .dataframe thead th {\n",
       "        text-align: right;\n",
       "    }\n",
       "</style>\n",
       "<table border=\"1\" class=\"dataframe\">\n",
       "  <thead>\n",
       "    <tr style=\"text-align: right;\">\n",
       "      <th></th>\n",
       "      <th>Id</th>\n",
       "      <th>EmployeeName</th>\n",
       "      <th>JobTitle</th>\n",
       "      <th>BasePay</th>\n",
       "      <th>OvertimePay</th>\n",
       "      <th>OtherPay</th>\n",
       "      <th>Benefits</th>\n",
       "      <th>TotalPay</th>\n",
       "      <th>TotalPayBenefits</th>\n",
       "      <th>Year</th>\n",
       "      <th>Notes</th>\n",
       "      <th>Agency</th>\n",
       "      <th>Status</th>\n",
       "    </tr>\n",
       "  </thead>\n",
       "  <tbody>\n",
       "    <tr>\n",
       "      <th>8637</th>\n",
       "      <td>8638</td>\n",
       "      <td>NOREEN CHAN</td>\n",
       "      <td>ASSOCIATE ENGINEER</td>\n",
       "      <td>104486.02</td>\n",
       "      <td>0.00</td>\n",
       "      <td>0.00</td>\n",
       "      <td>NaN</td>\n",
       "      <td>104486.02</td>\n",
       "      <td>104486.02</td>\n",
       "      <td>2011</td>\n",
       "      <td>NaN</td>\n",
       "      <td>San Francisco</td>\n",
       "      <td>NaN</td>\n",
       "    </tr>\n",
       "    <tr>\n",
       "      <th>20468</th>\n",
       "      <td>20469</td>\n",
       "      <td>EAMON CORRY</td>\n",
       "      <td>UTILITY PLUMBER</td>\n",
       "      <td>53737.07</td>\n",
       "      <td>4768.25</td>\n",
       "      <td>3274.75</td>\n",
       "      <td>NaN</td>\n",
       "      <td>61780.07</td>\n",
       "      <td>61780.07</td>\n",
       "      <td>2011</td>\n",
       "      <td>NaN</td>\n",
       "      <td>San Francisco</td>\n",
       "      <td>NaN</td>\n",
       "    </tr>\n",
       "    <tr>\n",
       "      <th>28070</th>\n",
       "      <td>28071</td>\n",
       "      <td>MATELINA ALEXANDER</td>\n",
       "      <td>TRANSIT OPERATOR</td>\n",
       "      <td>24392.68</td>\n",
       "      <td>4884.42</td>\n",
       "      <td>178.31</td>\n",
       "      <td>NaN</td>\n",
       "      <td>29455.41</td>\n",
       "      <td>29455.41</td>\n",
       "      <td>2011</td>\n",
       "      <td>NaN</td>\n",
       "      <td>San Francisco</td>\n",
       "      <td>NaN</td>\n",
       "    </tr>\n",
       "    <tr>\n",
       "      <th>30242</th>\n",
       "      <td>30243</td>\n",
       "      <td>MANASIA JAVIUS</td>\n",
       "      <td>PUBLIC SERVICE AIDE-ASSISTANT TO PROFESSIONALS</td>\n",
       "      <td>14407.09</td>\n",
       "      <td>0.00</td>\n",
       "      <td>818.92</td>\n",
       "      <td>NaN</td>\n",
       "      <td>15226.01</td>\n",
       "      <td>15226.01</td>\n",
       "      <td>2011</td>\n",
       "      <td>NaN</td>\n",
       "      <td>San Francisco</td>\n",
       "      <td>NaN</td>\n",
       "    </tr>\n",
       "    <tr>\n",
       "      <th>26130</th>\n",
       "      <td>26131</td>\n",
       "      <td>MANUEL ALFONSO</td>\n",
       "      <td>CUSTODIAN</td>\n",
       "      <td>39721.88</td>\n",
       "      <td>274.89</td>\n",
       "      <td>4075.95</td>\n",
       "      <td>NaN</td>\n",
       "      <td>44072.72</td>\n",
       "      <td>44072.72</td>\n",
       "      <td>2011</td>\n",
       "      <td>NaN</td>\n",
       "      <td>San Francisco</td>\n",
       "      <td>NaN</td>\n",
       "    </tr>\n",
       "  </tbody>\n",
       "</table>\n",
       "</div>"
      ],
      "text/plain": [
       "          Id        EmployeeName  \\\n",
       "8637    8638         NOREEN CHAN   \n",
       "20468  20469         EAMON CORRY   \n",
       "28070  28071  MATELINA ALEXANDER   \n",
       "30242  30243      MANASIA JAVIUS   \n",
       "26130  26131      MANUEL ALFONSO   \n",
       "\n",
       "                                             JobTitle    BasePay  OvertimePay  \\\n",
       "8637                               ASSOCIATE ENGINEER  104486.02         0.00   \n",
       "20468                                 UTILITY PLUMBER   53737.07      4768.25   \n",
       "28070                                TRANSIT OPERATOR   24392.68      4884.42   \n",
       "30242  PUBLIC SERVICE AIDE-ASSISTANT TO PROFESSIONALS   14407.09         0.00   \n",
       "26130                                       CUSTODIAN   39721.88       274.89   \n",
       "\n",
       "       OtherPay  Benefits   TotalPay  TotalPayBenefits  Year  Notes  \\\n",
       "8637       0.00       NaN  104486.02         104486.02  2011    NaN   \n",
       "20468   3274.75       NaN   61780.07          61780.07  2011    NaN   \n",
       "28070    178.31       NaN   29455.41          29455.41  2011    NaN   \n",
       "30242    818.92       NaN   15226.01          15226.01  2011    NaN   \n",
       "26130   4075.95       NaN   44072.72          44072.72  2011    NaN   \n",
       "\n",
       "              Agency Status  \n",
       "8637   San Francisco    NaN  \n",
       "20468  San Francisco    NaN  \n",
       "28070  San Francisco    NaN  \n",
       "30242  San Francisco    NaN  \n",
       "26130  San Francisco    NaN  "
      ]
     },
     "execution_count": 20,
     "metadata": {},
     "output_type": "execute_result"
    }
   ],
   "source": [
    "nan_benefits.sample(5)"
   ]
  },
  {
   "cell_type": "code",
   "execution_count": 21,
   "id": "7e851be1-3762-41d0-a5eb-7497870736fb",
   "metadata": {},
   "outputs": [
    {
     "data": {
      "text/plain": [
       "(36159, 13)"
      ]
     },
     "execution_count": 21,
     "metadata": {},
     "output_type": "execute_result"
    }
   ],
   "source": [
    "nan_benefits.shape"
   ]
  },
  {
   "cell_type": "code",
   "execution_count": 22,
   "id": "d3247a3c-b05a-47b1-9a8e-8527ebe1b032",
   "metadata": {},
   "outputs": [],
   "source": [
    "check = nan_benefits.eval(\"TotalPayBenefits == TotalPay\")"
   ]
  },
  {
   "cell_type": "code",
   "execution_count": 23,
   "id": "3c2c2707-6b9f-4ae5-8097-c95101e2f7d8",
   "metadata": {},
   "outputs": [
    {
     "data": {
      "text/plain": [
       "True    36159\n",
       "Name: count, dtype: int64"
      ]
     },
     "execution_count": 23,
     "metadata": {},
     "output_type": "execute_result"
    }
   ],
   "source": [
    "check.value_counts()"
   ]
  },
  {
   "cell_type": "code",
   "execution_count": 24,
   "id": "bed69147-30d5-4b2f-a7a6-cc9364380e0d",
   "metadata": {},
   "outputs": [],
   "source": [
    "df[\"Benefits\"] = df[\"Benefits\"].fillna(0.00)"
   ]
  },
  {
   "cell_type": "code",
   "execution_count": 25,
   "id": "2281bafb-49a9-4aaf-b0d2-696e63e3d6bc",
   "metadata": {},
   "outputs": [
    {
     "data": {
      "text/plain": [
       "Id                       0\n",
       "EmployeeName             0\n",
       "JobTitle                 0\n",
       "BasePay                  0\n",
       "OvertimePay              0\n",
       "OtherPay                 0\n",
       "Benefits                 0\n",
       "TotalPay                 0\n",
       "TotalPayBenefits         0\n",
       "Year                     0\n",
       "Notes               148650\n",
       "Agency                   0\n",
       "Status              110531\n",
       "dtype: int64"
      ]
     },
     "execution_count": 25,
     "metadata": {},
     "output_type": "execute_result"
    }
   ],
   "source": [
    "df.isna().sum()"
   ]
  },
  {
   "cell_type": "markdown",
   "id": "e2d68fbb-188d-475c-8c06-b48d2b9893be",
   "metadata": {},
   "source": [
    "## 6. DROP ID, NOTES, AGENCY STATUS"
   ]
  },
  {
   "cell_type": "code",
   "execution_count": 26,
   "id": "548bf22d-adff-46f6-9460-a99364dbb17c",
   "metadata": {},
   "outputs": [
    {
     "data": {
      "text/plain": [
       "Index(['Id', 'EmployeeName', 'JobTitle', 'BasePay', 'OvertimePay', 'OtherPay',\n",
       "       'Benefits', 'TotalPay', 'TotalPayBenefits', 'Year', 'Notes', 'Agency',\n",
       "       'Status'],\n",
       "      dtype='object')"
      ]
     },
     "execution_count": 26,
     "metadata": {},
     "output_type": "execute_result"
    }
   ],
   "source": [
    "df.columns"
   ]
  },
  {
   "cell_type": "code",
   "execution_count": 27,
   "id": "91f7545a-b49e-4328-99ea-ed34457dcdcb",
   "metadata": {},
   "outputs": [],
   "source": [
    "df.drop([\"Id\", \"Notes\", \"Agency\", \"Status\"], axis= 1, inplace=True)"
   ]
  },
  {
   "cell_type": "code",
   "execution_count": 28,
   "id": "e1c780e2-05c0-44c6-87db-720743915835",
   "metadata": {},
   "outputs": [
    {
     "data": {
      "text/plain": [
       "Index(['EmployeeName', 'JobTitle', 'BasePay', 'OvertimePay', 'OtherPay',\n",
       "       'Benefits', 'TotalPay', 'TotalPayBenefits', 'Year'],\n",
       "      dtype='object')"
      ]
     },
     "execution_count": 28,
     "metadata": {},
     "output_type": "execute_result"
    }
   ],
   "source": [
    "df.columns"
   ]
  },
  {
   "cell_type": "markdown",
   "id": "30120ed1-5c73-4713-a5eb-148841a7ff37",
   "metadata": {},
   "source": [
    "## 7. GET OVERALL STATISTICS ABOUT THE DATAFRAME"
   ]
  },
  {
   "cell_type": "code",
   "execution_count": 29,
   "id": "e01a2acd-dbf5-459e-bc5c-5ddfdf81f4c1",
   "metadata": {},
   "outputs": [
    {
     "data": {
      "text/html": [
       "<div>\n",
       "<style scoped>\n",
       "    .dataframe tbody tr th:only-of-type {\n",
       "        vertical-align: middle;\n",
       "    }\n",
       "\n",
       "    .dataframe tbody tr th {\n",
       "        vertical-align: top;\n",
       "    }\n",
       "\n",
       "    .dataframe thead th {\n",
       "        text-align: right;\n",
       "    }\n",
       "</style>\n",
       "<table border=\"1\" class=\"dataframe\">\n",
       "  <thead>\n",
       "    <tr style=\"text-align: right;\">\n",
       "      <th></th>\n",
       "      <th>EmployeeName</th>\n",
       "      <th>JobTitle</th>\n",
       "      <th>BasePay</th>\n",
       "      <th>OvertimePay</th>\n",
       "      <th>OtherPay</th>\n",
       "      <th>Benefits</th>\n",
       "      <th>TotalPay</th>\n",
       "      <th>TotalPayBenefits</th>\n",
       "      <th>Year</th>\n",
       "    </tr>\n",
       "  </thead>\n",
       "  <tbody>\n",
       "    <tr>\n",
       "      <th>count</th>\n",
       "      <td>148650</td>\n",
       "      <td>148650</td>\n",
       "      <td>148650.000000</td>\n",
       "      <td>148650.000000</td>\n",
       "      <td>148650.000000</td>\n",
       "      <td>148650.000000</td>\n",
       "      <td>148650.000000</td>\n",
       "      <td>148650.000000</td>\n",
       "      <td>148650.000000</td>\n",
       "    </tr>\n",
       "    <tr>\n",
       "      <th>unique</th>\n",
       "      <td>110810</td>\n",
       "      <td>2158</td>\n",
       "      <td>NaN</td>\n",
       "      <td>NaN</td>\n",
       "      <td>NaN</td>\n",
       "      <td>NaN</td>\n",
       "      <td>NaN</td>\n",
       "      <td>NaN</td>\n",
       "      <td>NaN</td>\n",
       "    </tr>\n",
       "    <tr>\n",
       "      <th>top</th>\n",
       "      <td>Kevin Lee</td>\n",
       "      <td>Transit Operator</td>\n",
       "      <td>NaN</td>\n",
       "      <td>NaN</td>\n",
       "      <td>NaN</td>\n",
       "      <td>NaN</td>\n",
       "      <td>NaN</td>\n",
       "      <td>NaN</td>\n",
       "      <td>NaN</td>\n",
       "    </tr>\n",
       "    <tr>\n",
       "      <th>freq</th>\n",
       "      <td>13</td>\n",
       "      <td>7036</td>\n",
       "      <td>NaN</td>\n",
       "      <td>NaN</td>\n",
       "      <td>NaN</td>\n",
       "      <td>NaN</td>\n",
       "      <td>NaN</td>\n",
       "      <td>NaN</td>\n",
       "      <td>NaN</td>\n",
       "    </tr>\n",
       "    <tr>\n",
       "      <th>mean</th>\n",
       "      <td>NaN</td>\n",
       "      <td>NaN</td>\n",
       "      <td>66055.506718</td>\n",
       "      <td>5066.059886</td>\n",
       "      <td>3648.767297</td>\n",
       "      <td>18924.742068</td>\n",
       "      <td>74770.333901</td>\n",
       "      <td>93695.075969</td>\n",
       "      <td>2012.522603</td>\n",
       "    </tr>\n",
       "    <tr>\n",
       "      <th>std</th>\n",
       "      <td>NaN</td>\n",
       "      <td>NaN</td>\n",
       "      <td>42885.919334</td>\n",
       "      <td>11454.380559</td>\n",
       "      <td>8056.601866</td>\n",
       "      <td>17165.229731</td>\n",
       "      <td>50516.196009</td>\n",
       "      <td>62792.497391</td>\n",
       "      <td>1.117526</td>\n",
       "    </tr>\n",
       "    <tr>\n",
       "      <th>min</th>\n",
       "      <td>NaN</td>\n",
       "      <td>NaN</td>\n",
       "      <td>-166.010000</td>\n",
       "      <td>-0.010000</td>\n",
       "      <td>-7058.590000</td>\n",
       "      <td>-33.890000</td>\n",
       "      <td>-618.130000</td>\n",
       "      <td>-618.130000</td>\n",
       "      <td>2011.000000</td>\n",
       "    </tr>\n",
       "    <tr>\n",
       "      <th>25%</th>\n",
       "      <td>NaN</td>\n",
       "      <td>NaN</td>\n",
       "      <td>32798.550000</td>\n",
       "      <td>0.000000</td>\n",
       "      <td>0.000000</td>\n",
       "      <td>0.000000</td>\n",
       "      <td>36169.955000</td>\n",
       "      <td>44073.337500</td>\n",
       "      <td>2012.000000</td>\n",
       "    </tr>\n",
       "    <tr>\n",
       "      <th>50%</th>\n",
       "      <td>NaN</td>\n",
       "      <td>NaN</td>\n",
       "      <td>64862.310000</td>\n",
       "      <td>0.000000</td>\n",
       "      <td>811.270000</td>\n",
       "      <td>23217.135000</td>\n",
       "      <td>71427.240000</td>\n",
       "      <td>92406.020000</td>\n",
       "      <td>2013.000000</td>\n",
       "    </tr>\n",
       "    <tr>\n",
       "      <th>75%</th>\n",
       "      <td>NaN</td>\n",
       "      <td>NaN</td>\n",
       "      <td>94609.715000</td>\n",
       "      <td>4658.175000</td>\n",
       "      <td>4236.065000</td>\n",
       "      <td>33468.980000</td>\n",
       "      <td>105842.960000</td>\n",
       "      <td>132877.992500</td>\n",
       "      <td>2014.000000</td>\n",
       "    </tr>\n",
       "    <tr>\n",
       "      <th>max</th>\n",
       "      <td>NaN</td>\n",
       "      <td>NaN</td>\n",
       "      <td>319275.010000</td>\n",
       "      <td>245131.880000</td>\n",
       "      <td>400184.250000</td>\n",
       "      <td>96570.660000</td>\n",
       "      <td>567595.430000</td>\n",
       "      <td>567595.430000</td>\n",
       "      <td>2014.000000</td>\n",
       "    </tr>\n",
       "  </tbody>\n",
       "</table>\n",
       "</div>"
      ],
      "text/plain": [
       "       EmployeeName          JobTitle        BasePay    OvertimePay  \\\n",
       "count        148650            148650  148650.000000  148650.000000   \n",
       "unique       110810              2158            NaN            NaN   \n",
       "top       Kevin Lee  Transit Operator            NaN            NaN   \n",
       "freq             13              7036            NaN            NaN   \n",
       "mean            NaN               NaN   66055.506718    5066.059886   \n",
       "std             NaN               NaN   42885.919334   11454.380559   \n",
       "min             NaN               NaN    -166.010000      -0.010000   \n",
       "25%             NaN               NaN   32798.550000       0.000000   \n",
       "50%             NaN               NaN   64862.310000       0.000000   \n",
       "75%             NaN               NaN   94609.715000    4658.175000   \n",
       "max             NaN               NaN  319275.010000  245131.880000   \n",
       "\n",
       "             OtherPay       Benefits       TotalPay  TotalPayBenefits  \\\n",
       "count   148650.000000  148650.000000  148650.000000     148650.000000   \n",
       "unique            NaN            NaN            NaN               NaN   \n",
       "top               NaN            NaN            NaN               NaN   \n",
       "freq              NaN            NaN            NaN               NaN   \n",
       "mean      3648.767297   18924.742068   74770.333901      93695.075969   \n",
       "std       8056.601866   17165.229731   50516.196009      62792.497391   \n",
       "min      -7058.590000     -33.890000    -618.130000       -618.130000   \n",
       "25%          0.000000       0.000000   36169.955000      44073.337500   \n",
       "50%        811.270000   23217.135000   71427.240000      92406.020000   \n",
       "75%       4236.065000   33468.980000  105842.960000     132877.992500   \n",
       "max     400184.250000   96570.660000  567595.430000     567595.430000   \n",
       "\n",
       "                 Year  \n",
       "count   148650.000000  \n",
       "unique            NaN  \n",
       "top               NaN  \n",
       "freq              NaN  \n",
       "mean      2012.522603  \n",
       "std          1.117526  \n",
       "min       2011.000000  \n",
       "25%       2012.000000  \n",
       "50%       2013.000000  \n",
       "75%       2014.000000  \n",
       "max       2014.000000  "
      ]
     },
     "execution_count": 29,
     "metadata": {},
     "output_type": "execute_result"
    }
   ],
   "source": [
    "df.describe(include=\"all\")"
   ]
  },
  {
   "cell_type": "code",
   "execution_count": 30,
   "id": "6f2fec19-2457-4779-b04b-82e575f309a3",
   "metadata": {},
   "outputs": [
    {
     "data": {
      "text/plain": [
       "EmployeeName\n",
       "Kevin Lee             13\n",
       "William Wong          11\n",
       "Steven Lee            11\n",
       "Richard Lee           11\n",
       "Stanley Lee            9\n",
       "                      ..\n",
       "DAVID SHINN            1\n",
       "Lian Xiu Wu            1\n",
       "Dario Crawford Jr.     1\n",
       "Jennifer L Hammond     1\n",
       "Jimmy Tang             1\n",
       "Name: count, Length: 110810, dtype: int64"
      ]
     },
     "execution_count": 30,
     "metadata": {},
     "output_type": "execute_result"
    }
   ],
   "source": [
    "duplicated_names = df[\"EmployeeName\"].value_counts()\n",
    "duplicated_names"
   ]
  },
  {
   "cell_type": "code",
   "execution_count": 31,
   "id": "f9082756-3dc1-4768-8bbb-bd5330366b17",
   "metadata": {},
   "outputs": [],
   "source": [
    "repeated_employee = duplicated_names[duplicated_names > 1].index"
   ]
  },
  {
   "cell_type": "code",
   "execution_count": 32,
   "id": "40ebacc6-668d-405a-9f35-2e866c0a052b",
   "metadata": {},
   "outputs": [
    {
     "data": {
      "text/html": [
       "<div>\n",
       "<style scoped>\n",
       "    .dataframe tbody tr th:only-of-type {\n",
       "        vertical-align: middle;\n",
       "    }\n",
       "\n",
       "    .dataframe tbody tr th {\n",
       "        vertical-align: top;\n",
       "    }\n",
       "\n",
       "    .dataframe thead th {\n",
       "        text-align: right;\n",
       "    }\n",
       "</style>\n",
       "<table border=\"1\" class=\"dataframe\">\n",
       "  <thead>\n",
       "    <tr style=\"text-align: right;\">\n",
       "      <th></th>\n",
       "      <th>EmployeeName</th>\n",
       "      <th>JobTitle</th>\n",
       "      <th>BasePay</th>\n",
       "      <th>OvertimePay</th>\n",
       "      <th>OtherPay</th>\n",
       "      <th>Benefits</th>\n",
       "      <th>TotalPay</th>\n",
       "      <th>TotalPayBenefits</th>\n",
       "      <th>Year</th>\n",
       "    </tr>\n",
       "  </thead>\n",
       "  <tbody>\n",
       "    <tr>\n",
       "      <th>5</th>\n",
       "      <td>DAVID SULLIVAN</td>\n",
       "      <td>ASSISTANT DEPUTY CHIEF II</td>\n",
       "      <td>118602.00</td>\n",
       "      <td>8601.00</td>\n",
       "      <td>189082.74</td>\n",
       "      <td>0.0</td>\n",
       "      <td>316285.74</td>\n",
       "      <td>316285.74</td>\n",
       "      <td>2011</td>\n",
       "    </tr>\n",
       "    <tr>\n",
       "      <th>8</th>\n",
       "      <td>MICHAEL MORRIS</td>\n",
       "      <td>BATTALION CHIEF, (FIRE DEPARTMENT)</td>\n",
       "      <td>176932.64</td>\n",
       "      <td>86362.68</td>\n",
       "      <td>40132.23</td>\n",
       "      <td>0.0</td>\n",
       "      <td>303427.55</td>\n",
       "      <td>303427.55</td>\n",
       "      <td>2011</td>\n",
       "    </tr>\n",
       "    <tr>\n",
       "      <th>13</th>\n",
       "      <td>JOHN MARTIN</td>\n",
       "      <td>DEPARTMENT HEAD V</td>\n",
       "      <td>271329.03</td>\n",
       "      <td>0.00</td>\n",
       "      <td>21342.59</td>\n",
       "      <td>0.0</td>\n",
       "      <td>292671.62</td>\n",
       "      <td>292671.62</td>\n",
       "      <td>2011</td>\n",
       "    </tr>\n",
       "    <tr>\n",
       "      <th>33</th>\n",
       "      <td>JOHN TURSI</td>\n",
       "      <td>INSPECTOR III, (POLICE DEPARTMENT)</td>\n",
       "      <td>104861.39</td>\n",
       "      <td>50227.61</td>\n",
       "      <td>103499.39</td>\n",
       "      <td>0.0</td>\n",
       "      <td>258588.39</td>\n",
       "      <td>258588.39</td>\n",
       "      <td>2011</td>\n",
       "    </tr>\n",
       "    <tr>\n",
       "      <th>40</th>\n",
       "      <td>MICHAEL THOMPSON</td>\n",
       "      <td>BATTALION CHIEF, (FIRE DEPARTMENT)</td>\n",
       "      <td>168692.66</td>\n",
       "      <td>60847.56</td>\n",
       "      <td>21055.17</td>\n",
       "      <td>0.0</td>\n",
       "      <td>250595.39</td>\n",
       "      <td>250595.39</td>\n",
       "      <td>2011</td>\n",
       "    </tr>\n",
       "    <tr>\n",
       "      <th>...</th>\n",
       "      <td>...</td>\n",
       "      <td>...</td>\n",
       "      <td>...</td>\n",
       "      <td>...</td>\n",
       "      <td>...</td>\n",
       "      <td>...</td>\n",
       "      <td>...</td>\n",
       "      <td>...</td>\n",
       "      <td>...</td>\n",
       "    </tr>\n",
       "    <tr>\n",
       "      <th>148644</th>\n",
       "      <td>Randy D Winn</td>\n",
       "      <td>Stationary Eng, Sewage Plant</td>\n",
       "      <td>0.00</td>\n",
       "      <td>0.00</td>\n",
       "      <td>0.00</td>\n",
       "      <td>0.0</td>\n",
       "      <td>0.00</td>\n",
       "      <td>0.00</td>\n",
       "      <td>2014</td>\n",
       "    </tr>\n",
       "    <tr>\n",
       "      <th>148645</th>\n",
       "      <td>Carolyn A Wilson</td>\n",
       "      <td>Human Services Technician</td>\n",
       "      <td>0.00</td>\n",
       "      <td>0.00</td>\n",
       "      <td>0.00</td>\n",
       "      <td>0.0</td>\n",
       "      <td>0.00</td>\n",
       "      <td>0.00</td>\n",
       "      <td>2014</td>\n",
       "    </tr>\n",
       "    <tr>\n",
       "      <th>148647</th>\n",
       "      <td>Joann Anderson</td>\n",
       "      <td>Communications Dispatcher 2</td>\n",
       "      <td>0.00</td>\n",
       "      <td>0.00</td>\n",
       "      <td>0.00</td>\n",
       "      <td>0.0</td>\n",
       "      <td>0.00</td>\n",
       "      <td>0.00</td>\n",
       "      <td>2014</td>\n",
       "    </tr>\n",
       "    <tr>\n",
       "      <th>148648</th>\n",
       "      <td>Leon Walker</td>\n",
       "      <td>Custodian</td>\n",
       "      <td>0.00</td>\n",
       "      <td>0.00</td>\n",
       "      <td>0.00</td>\n",
       "      <td>0.0</td>\n",
       "      <td>0.00</td>\n",
       "      <td>0.00</td>\n",
       "      <td>2014</td>\n",
       "    </tr>\n",
       "    <tr>\n",
       "      <th>148649</th>\n",
       "      <td>Roy I Tillery</td>\n",
       "      <td>Custodian</td>\n",
       "      <td>0.00</td>\n",
       "      <td>0.00</td>\n",
       "      <td>0.00</td>\n",
       "      <td>0.0</td>\n",
       "      <td>0.00</td>\n",
       "      <td>0.00</td>\n",
       "      <td>2014</td>\n",
       "    </tr>\n",
       "  </tbody>\n",
       "</table>\n",
       "<p>72113 rows × 9 columns</p>\n",
       "</div>"
      ],
      "text/plain": [
       "            EmployeeName                            JobTitle    BasePay  \\\n",
       "5         DAVID SULLIVAN           ASSISTANT DEPUTY CHIEF II  118602.00   \n",
       "8         MICHAEL MORRIS  BATTALION CHIEF, (FIRE DEPARTMENT)  176932.64   \n",
       "13           JOHN MARTIN                   DEPARTMENT HEAD V  271329.03   \n",
       "33            JOHN TURSI  INSPECTOR III, (POLICE DEPARTMENT)  104861.39   \n",
       "40      MICHAEL THOMPSON  BATTALION CHIEF, (FIRE DEPARTMENT)  168692.66   \n",
       "...                  ...                                 ...        ...   \n",
       "148644      Randy D Winn        Stationary Eng, Sewage Plant       0.00   \n",
       "148645  Carolyn A Wilson           Human Services Technician       0.00   \n",
       "148647    Joann Anderson         Communications Dispatcher 2       0.00   \n",
       "148648       Leon Walker                           Custodian       0.00   \n",
       "148649     Roy I Tillery                           Custodian       0.00   \n",
       "\n",
       "        OvertimePay   OtherPay  Benefits   TotalPay  TotalPayBenefits  Year  \n",
       "5           8601.00  189082.74       0.0  316285.74         316285.74  2011  \n",
       "8          86362.68   40132.23       0.0  303427.55         303427.55  2011  \n",
       "13             0.00   21342.59       0.0  292671.62         292671.62  2011  \n",
       "33         50227.61  103499.39       0.0  258588.39         258588.39  2011  \n",
       "40         60847.56   21055.17       0.0  250595.39         250595.39  2011  \n",
       "...             ...        ...       ...        ...               ...   ...  \n",
       "148644         0.00       0.00       0.0       0.00              0.00  2014  \n",
       "148645         0.00       0.00       0.0       0.00              0.00  2014  \n",
       "148647         0.00       0.00       0.0       0.00              0.00  2014  \n",
       "148648         0.00       0.00       0.0       0.00              0.00  2014  \n",
       "148649         0.00       0.00       0.0       0.00              0.00  2014  \n",
       "\n",
       "[72113 rows x 9 columns]"
      ]
     },
     "execution_count": 32,
     "metadata": {},
     "output_type": "execute_result"
    }
   ],
   "source": [
    "repeated_df = df[df[\"EmployeeName\"].isin(repeated_employee)]\n",
    "repeated_df"
   ]
  },
  {
   "cell_type": "code",
   "execution_count": 33,
   "id": "3558da60-5560-42a3-9a26-61f4c4511744",
   "metadata": {},
   "outputs": [
    {
     "data": {
      "text/plain": [
       "EmployeeName      Year\n",
       "A Bernard Fatooh  2012    1\n",
       "                  2014    1\n",
       "AARON CRAMER      2011    2\n",
       "AARON RAINEY      2011    2\n",
       "AARON STEVENSON   2011    2\n",
       "                         ..\n",
       "Zun Jin Zhang He  2014    1\n",
       "Zuna T Luu        2013    1\n",
       "                  2014    1\n",
       "Zuri Jones        2012    1\n",
       "                  2014    1\n",
       "Name: JobTitle, Length: 64523, dtype: int64"
      ]
     },
     "execution_count": 33,
     "metadata": {},
     "output_type": "execute_result"
    }
   ],
   "source": [
    "check = repeated_df.groupby([\"EmployeeName\", \"Year\"])[\"JobTitle\"].nunique()\n",
    "check\n"
   ]
  },
  {
   "cell_type": "code",
   "execution_count": 34,
   "id": "6dfda3eb-d75e-4b23-9307-83e0c4dc038e",
   "metadata": {},
   "outputs": [],
   "source": [
    "sorted_df = df.sort_values([\"EmployeeName\", \"Year\", \"TotalPay\"], ascending=[True, True, False])\n",
    "df = sorted_df.drop_duplicates(subset=[\"EmployeeName\", \"Year\"], keep=\"first\")"
   ]
  },
  {
   "cell_type": "code",
   "execution_count": 35,
   "id": "e262c144-d138-4cb5-a204-1aee24ae8def",
   "metadata": {},
   "outputs": [
    {
     "data": {
      "text/plain": [
       "EmployeeName\n",
       "Kimberly S Lin          3\n",
       "Mu Q Huang              3\n",
       "A Bernard Fatooh        2\n",
       "Diva D Lewis Hudson     2\n",
       "Calvin F Chow           2\n",
       "                       ..\n",
       "Zohaib Khan             1\n",
       "Zohreh  Khodabandelu    1\n",
       "Zohreh Khodabandelu     1\n",
       "Zoila  Lechuga          1\n",
       "Sheila Wheeler          1\n",
       "Name: count, Length: 110810, dtype: int64"
      ]
     },
     "execution_count": 35,
     "metadata": {},
     "output_type": "execute_result"
    }
   ],
   "source": [
    "df[\"EmployeeName\"].value_counts()"
   ]
  },
  {
   "cell_type": "markdown",
   "id": "aca4c292-21ff-4305-b603-2ceef2a3ea97",
   "metadata": {},
   "source": [
    "## FIND THE OCCURENCE OF THE EMPLOYEE NAMES"
   ]
  },
  {
   "cell_type": "code",
   "execution_count": 36,
   "id": "168f757d-6680-49a8-812b-8c05a3627cc9",
   "metadata": {},
   "outputs": [
    {
     "data": {
      "text/plain": [
       "EmployeeName\n",
       "Kimberly S Lin         3\n",
       "Mu Q Huang             3\n",
       "A Bernard Fatooh       2\n",
       "Diva D Lewis Hudson    2\n",
       "Calvin F Chow          2\n",
       "Name: count, dtype: int64"
      ]
     },
     "execution_count": 36,
     "metadata": {},
     "output_type": "execute_result"
    }
   ],
   "source": [
    "df[\"EmployeeName\"].value_counts().head()"
   ]
  },
  {
   "cell_type": "markdown",
   "id": "283b5000-f9d8-434b-8d9a-30a7c963a2cf",
   "metadata": {},
   "source": [
    "## FIND THE TOTAL OF UNIQUE JOB TITLES"
   ]
  },
  {
   "cell_type": "code",
   "execution_count": 37,
   "id": "c54b86f6-b928-4e61-9a4d-901fb672f81a",
   "metadata": {},
   "outputs": [
    {
     "data": {
      "text/plain": [
       "2150"
      ]
     },
     "execution_count": 37,
     "metadata": {},
     "output_type": "execute_result"
    }
   ],
   "source": [
    "df[\"JobTitle\"].nunique()"
   ]
  },
  {
   "cell_type": "markdown",
   "id": "0d7aceae-3d5b-4ec8-9e9f-c6f1f882dc16",
   "metadata": {},
   "source": [
    "## TOTAL NUMBER OF JOB TITLES THAT CONTAINS CAPTAIN"
   ]
  },
  {
   "cell_type": "code",
   "execution_count": 38,
   "id": "d7f38ede-4173-481f-a72f-3cd95cc20e84",
   "metadata": {},
   "outputs": [
    {
     "data": {
      "text/plain": [
       "JobTitle\n",
       "False    140510\n",
       "True        550\n",
       "Name: count, dtype: int64"
      ]
     },
     "execution_count": 38,
     "metadata": {},
     "output_type": "execute_result"
    }
   ],
   "source": [
    "df[\"JobTitle\"].str.contains(\"captain\", case=False).value_counts()"
   ]
  },
  {
   "cell_type": "markdown",
   "id": "5392c960-ceed-4b7a-bf66-7d4bec45aa0c",
   "metadata": {},
   "source": [
    "## DISPLAY ALL EMPLOYEE FROM FIRE DEPARTMENT"
   ]
  },
  {
   "cell_type": "code",
   "execution_count": 39,
   "id": "e405af02-80c8-40e4-8809-fc0fad882dd9",
   "metadata": {},
   "outputs": [
    {
     "data": {
      "text/plain": [
       "682             AARON FISHER\n",
       "2154         AARON STEVENSON\n",
       "610             ABDUL KHADIR\n",
       "2536          ADAM BUSTILLOS\n",
       "11215             ADAM LEWIS\n",
       "                 ...        \n",
       "73002     Zachary W Pumphrey\n",
       "110711    Zachary W Pumphrey\n",
       "73553      Zackary J Tibbits\n",
       "112096     Zackary J Tibbits\n",
       "36995        Zackary Tibbits\n",
       "Name: EmployeeName, Length: 5832, dtype: object"
      ]
     },
     "execution_count": 39,
     "metadata": {},
     "output_type": "execute_result"
    }
   ],
   "source": [
    "df[df[\"JobTitle\"].str.contains(\"fire\", case=False)][\"EmployeeName\"]"
   ]
  },
  {
   "cell_type": "markdown",
   "id": "7f6ff551-de02-4305-ac51-0aa4e50f9753",
   "metadata": {},
   "source": [
    "## FIND MINIMUM, MAXIMUM AND AVERAGE BASEPAY"
   ]
  },
  {
   "cell_type": "code",
   "execution_count": 40,
   "id": "f887337a-746e-4762-b19d-0b7224ae542c",
   "metadata": {},
   "outputs": [
    {
     "data": {
      "text/plain": [
       "np.float64(319275.01)"
      ]
     },
     "execution_count": 40,
     "metadata": {},
     "output_type": "execute_result"
    }
   ],
   "source": [
    "df[\"BasePay\"].max()"
   ]
  },
  {
   "cell_type": "code",
   "execution_count": 41,
   "id": "e22b285e-b2f9-44dd-ac44-a39c035d1e31",
   "metadata": {},
   "outputs": [
    {
     "data": {
      "text/plain": [
       "np.float64(-166.01)"
      ]
     },
     "execution_count": 41,
     "metadata": {},
     "output_type": "execute_result"
    }
   ],
   "source": [
    "df[\"BasePay\"].min()"
   ]
  },
  {
   "cell_type": "code",
   "execution_count": 42,
   "id": "dddebc93-9e39-41a4-85b3-b2299b58baf4",
   "metadata": {},
   "outputs": [
    {
     "data": {
      "text/plain": [
       "np.float64(68086.58844427903)"
      ]
     },
     "execution_count": 42,
     "metadata": {},
     "output_type": "execute_result"
    }
   ],
   "source": [
    "df[\"BasePay\"].mean()"
   ]
  },
  {
   "cell_type": "markdown",
   "id": "a9971a89-e857-4a6b-aeea-1be3f96701bc",
   "metadata": {},
   "source": [
    "## FIND THE JOB TITLE OF ALBERT PARDINI"
   ]
  },
  {
   "cell_type": "code",
   "execution_count": 43,
   "id": "0900d610-5ba1-4821-a583-3f109a5c4b66",
   "metadata": {},
   "outputs": [
    {
     "data": {
      "text/plain": [
       "Index(['EmployeeName', 'JobTitle', 'BasePay', 'OvertimePay', 'OtherPay',\n",
       "       'Benefits', 'TotalPay', 'TotalPayBenefits', 'Year'],\n",
       "      dtype='object')"
      ]
     },
     "execution_count": 43,
     "metadata": {},
     "output_type": "execute_result"
    }
   ],
   "source": [
    "df.columns"
   ]
  },
  {
   "cell_type": "code",
   "execution_count": 44,
   "id": "65321e5e-87d0-4721-a551-95f205ded983",
   "metadata": {},
   "outputs": [
    {
     "data": {
      "text/plain": [
       "36519    Captain 3\n",
       "Name: JobTitle, dtype: object"
      ]
     },
     "execution_count": 44,
     "metadata": {},
     "output_type": "execute_result"
    }
   ],
   "source": [
    "df[df[\"EmployeeName\"] == \"Albert Pardini\"][\"JobTitle\"]"
   ]
  },
  {
   "cell_type": "markdown",
   "id": "dbe80883-abfc-4ac8-9521-15d2e01bcfe7",
   "metadata": {},
   "source": [
    "## HOW MUCH ALBERT PARDINI MAKE (INCLUDE BENEFITS) ?"
   ]
  },
  {
   "cell_type": "code",
   "execution_count": 45,
   "id": "f0e34f41-4e85-4027-acca-db740fbc8b41",
   "metadata": {},
   "outputs": [
    {
     "data": {
      "text/plain": [
       "Index(['EmployeeName', 'JobTitle', 'BasePay', 'OvertimePay', 'OtherPay',\n",
       "       'Benefits', 'TotalPay', 'TotalPayBenefits', 'Year'],\n",
       "      dtype='object')"
      ]
     },
     "execution_count": 45,
     "metadata": {},
     "output_type": "execute_result"
    }
   ],
   "source": [
    "df.columns"
   ]
  },
  {
   "cell_type": "code",
   "execution_count": 46,
   "id": "92a0f1f7-8d3a-42fd-a1d3-2f4f4e6a9410",
   "metadata": {},
   "outputs": [
    {
     "data": {
      "text/html": [
       "<div>\n",
       "<style scoped>\n",
       "    .dataframe tbody tr th:only-of-type {\n",
       "        vertical-align: middle;\n",
       "    }\n",
       "\n",
       "    .dataframe tbody tr th {\n",
       "        vertical-align: top;\n",
       "    }\n",
       "\n",
       "    .dataframe thead th {\n",
       "        text-align: right;\n",
       "    }\n",
       "</style>\n",
       "<table border=\"1\" class=\"dataframe\">\n",
       "  <thead>\n",
       "    <tr style=\"text-align: right;\">\n",
       "      <th></th>\n",
       "      <th>EmployeeName</th>\n",
       "      <th>JobTitle</th>\n",
       "      <th>BasePay</th>\n",
       "      <th>OvertimePay</th>\n",
       "      <th>OtherPay</th>\n",
       "      <th>Benefits</th>\n",
       "      <th>TotalPay</th>\n",
       "      <th>TotalPayBenefits</th>\n",
       "      <th>Year</th>\n",
       "    </tr>\n",
       "  </thead>\n",
       "  <tbody>\n",
       "    <tr>\n",
       "      <th>11650</th>\n",
       "      <td>LONARICE WILLIAMS</td>\n",
       "      <td>PUBLIC SAFETY COMMUNICATIONS DISPATCHER</td>\n",
       "      <td>74478.35</td>\n",
       "      <td>12125.29</td>\n",
       "      <td>3853.91</td>\n",
       "      <td>0.00</td>\n",
       "      <td>90457.55</td>\n",
       "      <td>90457.55</td>\n",
       "      <td>2011</td>\n",
       "    </tr>\n",
       "    <tr>\n",
       "      <th>137398</th>\n",
       "      <td>Ariel E Canlapan</td>\n",
       "      <td>Electrical Line Helper</td>\n",
       "      <td>39544.00</td>\n",
       "      <td>6883.73</td>\n",
       "      <td>100.84</td>\n",
       "      <td>17768.44</td>\n",
       "      <td>46528.57</td>\n",
       "      <td>64297.01</td>\n",
       "      <td>2014</td>\n",
       "    </tr>\n",
       "    <tr>\n",
       "      <th>2291</th>\n",
       "      <td>MICHAEL RODRIGUEZ</td>\n",
       "      <td>SERGEANT II (POLICE DEPARTMENT)</td>\n",
       "      <td>128147.10</td>\n",
       "      <td>15554.93</td>\n",
       "      <td>5282.25</td>\n",
       "      <td>0.00</td>\n",
       "      <td>148984.28</td>\n",
       "      <td>148984.28</td>\n",
       "      <td>2011</td>\n",
       "    </tr>\n",
       "    <tr>\n",
       "      <th>34248</th>\n",
       "      <td>JOHANNA ORNELAS</td>\n",
       "      <td>PUBLIC SERVICE AIDE-SPECIAL PROGRAMS</td>\n",
       "      <td>3010.01</td>\n",
       "      <td>0.00</td>\n",
       "      <td>0.00</td>\n",
       "      <td>0.00</td>\n",
       "      <td>3010.01</td>\n",
       "      <td>3010.01</td>\n",
       "      <td>2011</td>\n",
       "    </tr>\n",
       "    <tr>\n",
       "      <th>64495</th>\n",
       "      <td>Gloria Galvez</td>\n",
       "      <td>Junior Clerk</td>\n",
       "      <td>26994.48</td>\n",
       "      <td>0.00</td>\n",
       "      <td>368.45</td>\n",
       "      <td>15371.16</td>\n",
       "      <td>27362.93</td>\n",
       "      <td>42734.09</td>\n",
       "      <td>2012</td>\n",
       "    </tr>\n",
       "  </tbody>\n",
       "</table>\n",
       "</div>"
      ],
      "text/plain": [
       "             EmployeeName                                 JobTitle    BasePay  \\\n",
       "11650   LONARICE WILLIAMS  PUBLIC SAFETY COMMUNICATIONS DISPATCHER   74478.35   \n",
       "137398   Ariel E Canlapan                   Electrical Line Helper   39544.00   \n",
       "2291    MICHAEL RODRIGUEZ          SERGEANT II (POLICE DEPARTMENT)  128147.10   \n",
       "34248     JOHANNA ORNELAS     PUBLIC SERVICE AIDE-SPECIAL PROGRAMS    3010.01   \n",
       "64495       Gloria Galvez                             Junior Clerk   26994.48   \n",
       "\n",
       "        OvertimePay  OtherPay  Benefits   TotalPay  TotalPayBenefits  Year  \n",
       "11650      12125.29   3853.91      0.00   90457.55          90457.55  2011  \n",
       "137398      6883.73    100.84  17768.44   46528.57          64297.01  2014  \n",
       "2291       15554.93   5282.25      0.00  148984.28         148984.28  2011  \n",
       "34248          0.00      0.00      0.00    3010.01           3010.01  2011  \n",
       "64495          0.00    368.45  15371.16   27362.93          42734.09  2012  "
      ]
     },
     "execution_count": 46,
     "metadata": {},
     "output_type": "execute_result"
    }
   ],
   "source": [
    "df.sample(5)"
   ]
  },
  {
   "cell_type": "code",
   "execution_count": 48,
   "id": "9a1cab20-7563-4ec5-9a30-494d5b197b66",
   "metadata": {},
   "outputs": [
    {
     "data": {
      "text/plain": [
       "36519    253995.29\n",
       "Name: TotalPayBenefits, dtype: float64"
      ]
     },
     "execution_count": 48,
     "metadata": {},
     "output_type": "execute_result"
    }
   ],
   "source": [
    "df[df[\"EmployeeName\"] == \"Albert Pardini\"][\"TotalPayBenefits\"]"
   ]
  },
  {
   "cell_type": "markdown",
   "id": "6b1ffa69-0c77-4454-85b2-bd47722b2396",
   "metadata": {},
   "source": [
    "## DISPLAY THE NAME OF THE PERSON HAVING THE HIGHEST BASE PAY"
   ]
  },
  {
   "cell_type": "code",
   "execution_count": 49,
   "id": "4d9a9ac5-66cd-459f-bb09-e6c1dff9e784",
   "metadata": {},
   "outputs": [
    {
     "data": {
      "text/plain": [
       "Index(['EmployeeName', 'JobTitle', 'BasePay', 'OvertimePay', 'OtherPay',\n",
       "       'Benefits', 'TotalPay', 'TotalPayBenefits', 'Year'],\n",
       "      dtype='object')"
      ]
     },
     "execution_count": 49,
     "metadata": {},
     "output_type": "execute_result"
    }
   ],
   "source": [
    "df.columns"
   ]
  },
  {
   "cell_type": "code",
   "execution_count": 57,
   "id": "541f6636-e8aa-44ba-a42a-eac2eb43ef90",
   "metadata": {},
   "outputs": [
    {
     "data": {
      "text/plain": [
       "72925    Gregory P Suhr\n",
       "Name: EmployeeName, dtype: object"
      ]
     },
     "execution_count": 57,
     "metadata": {},
     "output_type": "execute_result"
    }
   ],
   "source": [
    "df[df[\"BasePay\"] == df[\"BasePay\"].max()][\"EmployeeName\"]"
   ]
  },
  {
   "cell_type": "markdown",
   "id": "7e65ec78-ba80-4e6f-a8f6-60e21a81bb2f",
   "metadata": {},
   "source": [
    "## FIND AVERAGE BASE PAY OF EMPLOYEE PER YEAR"
   ]
  },
  {
   "cell_type": "code",
   "execution_count": 61,
   "id": "c56d4f78-fc90-4be1-97e5-cff16456ef0f",
   "metadata": {},
   "outputs": [
    {
     "data": {
      "text/plain": [
       "Year\n",
       "2011    65597.836514\n",
       "2012    67748.136267\n",
       "2013    70456.711644\n",
       "2014    68366.267807\n",
       "Name: BasePay, dtype: float64"
      ]
     },
     "execution_count": 61,
     "metadata": {},
     "output_type": "execute_result"
    }
   ],
   "source": [
    "df.groupby([\"Year\"])[\"BasePay\"].mean()"
   ]
  },
  {
   "cell_type": "markdown",
   "id": "f383291f-b93c-4957-af21-b3b29d7a3ef3",
   "metadata": {},
   "source": [
    "## AVERAGE BASE PAY OF EMPLOYEE PER JOB TITLE"
   ]
  },
  {
   "cell_type": "code",
   "execution_count": 75,
   "id": "a24e06b3-02e1-4882-89d6-061e626abddd",
   "metadata": {},
   "outputs": [],
   "source": [
    "average_pay = df.groupby([\"JobTitle\"])[\"BasePay\"].mean()\n"
   ]
  },
  {
   "cell_type": "markdown",
   "id": "bcece7c0-b8e3-4bbc-aa29-738bec581a8e",
   "metadata": {},
   "source": [
    "## FIND AVERAGE BASE PAY OF EMPLOYEE HAVING JOB TITLE ACCOUNTANT"
   ]
  },
  {
   "cell_type": "code",
   "execution_count": 66,
   "id": "65e1adff-e396-472c-b435-363dad7d0fbf",
   "metadata": {},
   "outputs": [
    {
     "data": {
      "text/plain": [
       "Index(['EmployeeName', 'JobTitle', 'BasePay', 'OvertimePay', 'OtherPay',\n",
       "       'Benefits', 'TotalPay', 'TotalPayBenefits', 'Year'],\n",
       "      dtype='object')"
      ]
     },
     "execution_count": 66,
     "metadata": {},
     "output_type": "execute_result"
    }
   ],
   "source": [
    "df.columns"
   ]
  },
  {
   "cell_type": "code",
   "execution_count": 76,
   "id": "7d150182-87ca-49e5-807d-67d5c0a42f65",
   "metadata": {},
   "outputs": [
    {
     "data": {
      "text/plain": [
       "JobTitle\n",
       "ACCOUNTANT                   46643.172000\n",
       "ACCOUNTANT INTERN            28608.216364\n",
       "Accountant I                 61777.832500\n",
       "Accountant II                66954.507409\n",
       "Accountant III               78818.680327\n",
       "Accountant IV                94223.002048\n",
       "Accountant Intern            42999.328571\n",
       "PRINCIPAL ACCOUNTANT         71317.480745\n",
       "SENIOR ACCOUNTANT            61768.687458\n",
       "SENIOR SYSTEMS ACCOUNTANT    92606.887400\n",
       "Name: BasePay, dtype: float64"
      ]
     },
     "execution_count": 76,
     "metadata": {},
     "output_type": "execute_result"
    }
   ],
   "source": [
    "# accountant = df[df[\"JobTitle\"].str.contains(\"accountant\", case=True)]\n",
    "# accountant\n",
    "average_pay[average_pay.index.str.contains(\"accountant\", case=False)]"
   ]
  },
  {
   "cell_type": "markdown",
   "id": "6c2911cc-466d-4caf-bdd1-148f493e2da5",
   "metadata": {},
   "source": [
    "## FIND TOP 5 MOST COMMON JOBS"
   ]
  },
  {
   "cell_type": "code",
   "execution_count": 77,
   "id": "460f1c38-2ddd-41cc-b317-5ccae12069d2",
   "metadata": {},
   "outputs": [
    {
     "data": {
      "text/plain": [
       "Index(['EmployeeName', 'JobTitle', 'BasePay', 'OvertimePay', 'OtherPay',\n",
       "       'Benefits', 'TotalPay', 'TotalPayBenefits', 'Year'],\n",
       "      dtype='object')"
      ]
     },
     "execution_count": 77,
     "metadata": {},
     "output_type": "execute_result"
    }
   ],
   "source": [
    "df.columns"
   ]
  },
  {
   "cell_type": "code",
   "execution_count": 84,
   "id": "39089422-7623-4a2c-b7a9-0b7566c21b26",
   "metadata": {},
   "outputs": [
    {
     "data": {
      "text/plain": [
       "JobTitle\n",
       "Transit Operator                6880\n",
       "Registered Nurse                3635\n",
       "Public Svc Aide-Public Works    2476\n",
       "Police Officer 3                2400\n",
       "Custodian                       2369\n",
       "Name: count, dtype: int64"
      ]
     },
     "execution_count": 84,
     "metadata": {},
     "output_type": "execute_result"
    }
   ],
   "source": [
    "df[\"JobTitle\"].value_counts().head()"
   ]
  },
  {
   "cell_type": "code",
   "execution_count": null,
   "id": "1331c98f-cc03-45fb-9cfb-83b4ea50d836",
   "metadata": {},
   "outputs": [],
   "source": []
  }
 ],
 "metadata": {
  "kernelspec": {
   "display_name": "Python 3 (ipykernel)",
   "language": "python",
   "name": "python3"
  },
  "language_info": {
   "codemirror_mode": {
    "name": "ipython",
    "version": 3
   },
   "file_extension": ".py",
   "mimetype": "text/x-python",
   "name": "python",
   "nbconvert_exporter": "python",
   "pygments_lexer": "ipython3",
   "version": "3.13.3"
  }
 },
 "nbformat": 4,
 "nbformat_minor": 5
}
